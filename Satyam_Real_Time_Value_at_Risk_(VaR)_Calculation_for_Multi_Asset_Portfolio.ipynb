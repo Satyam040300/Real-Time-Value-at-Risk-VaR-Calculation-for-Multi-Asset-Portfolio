{
  "nbformat": 4,
  "nbformat_minor": 0,
  "metadata": {
    "colab": {
      "provenance": []
    },
    "kernelspec": {
      "name": "python3",
      "display_name": "Python 3"
    },
    "language_info": {
      "name": "python"
    }
  },
  "cells": [
    {
      "cell_type": "code",
      "execution_count": null,
      "metadata": {
        "colab": {
          "base_uri": "https://localhost:8080/"
        },
        "id": "KbWdnzkgEUbt",
        "outputId": "bf53d1d4-ba37-4087-f15f-5ce91e6963a8"
      },
      "outputs": [
        {
          "output_type": "stream",
          "name": "stderr",
          "text": [
            "<ipython-input-1-15a01e865700>:27: FutureWarning: Series.__getitem__ treating keys as positions is deprecated. In a future version, integer keys will always be treated as labels (consistent with DataFrame behavior). To access a value by position, use `ser.iloc[pos]`\n",
            "  S0_a = stock_a.history(period=\"1d\")['Close'][0]\n",
            "<ipython-input-1-15a01e865700>:28: FutureWarning: Series.__getitem__ treating keys as positions is deprecated. In a future version, integer keys will always be treated as labels (consistent with DataFrame behavior). To access a value by position, use `ser.iloc[pos]`\n",
            "  S0_b = stock_b.history(period=\"1d\")['Close'][0]\n"
          ]
        },
        {
          "output_type": "stream",
          "name": "stdout",
          "text": [
            "The 99% 10-day VaR for the portfolio is: 1.4209\n"
          ]
        }
      ],
      "source": [
        "import numpy as np\n",
        "import yfinance as yf\n",
        "\n",
        "def calculate_var(stock_volatilities, correlation, weights, portfolio_value, confidence_level, days=10):\n",
        "    # Covariance matrix\n",
        "    cov_matrix = np.array([[stock_volatilities[0]**2, correlation * stock_volatilities[0] * stock_volatilities[1]],\n",
        "                           [correlation * stock_volatilities[0] * stock_volatilities[1], stock_volatilities[1]**2]])\n",
        "\n",
        "    # Portfolio volatility (standard deviation)\n",
        "    portfolio_volatility = np.sqrt(np.dot(weights.T, np.dot(cov_matrix, weights)))\n",
        "\n",
        "    # Z-score for the given confidence level\n",
        "    z_score = {0.95: 1.645, 0.99: 2.33}.get(confidence_level, 2.33)  # Default Z-score for 99%\n",
        "\n",
        "    # VaR Calculation\n",
        "    VaR = portfolio_value * z_score * portfolio_volatility * np.sqrt(days)\n",
        "    return VaR\n",
        "\n",
        "# Fetch real-time stock data for two stocks (e.g., Apple and Microsoft)\n",
        "ticker_a = \"AAPL\"\n",
        "ticker_b = \"MSFT\"\n",
        "\n",
        "stock_a = yf.Ticker(ticker_a)\n",
        "stock_b = yf.Ticker(ticker_b)\n",
        "\n",
        "# Get the current stock prices\n",
        "S0_a = stock_a.history(period=\"1d\")['Close'][0]\n",
        "S0_b = stock_b.history(period=\"1d\")['Close'][0]\n",
        "\n",
        "# Fetch historical data to estimate volatility (1-year)\n",
        "volatility_a = stock_a.history(period=\"1y\")['Close'].pct_change().std() * np.sqrt(252)\n",
        "volatility_b = stock_b.history(period=\"1y\")['Close'].pct_change().std() * np.sqrt(252)\n",
        "\n",
        "# Correlation between the two stocks (from historical data)\n",
        "correlation = stock_a.history(period=\"1y\")['Close'].pct_change().corr(stock_b.history(period=\"1y\")['Close'].pct_change())\n",
        "\n",
        "# Portfolio weights (50% each stock)\n",
        "weights = np.array([0.5, 0.5])\n",
        "\n",
        "# Portfolio value (example: portfolio value = 1)\n",
        "portfolio_value = 1\n",
        "\n",
        "# Confidence level (99% for this example)\n",
        "confidence_level = 0.99\n",
        "\n",
        "# Calculate the 10-day VaR\n",
        "VaR = calculate_var(np.array([volatility_a, volatility_b]), correlation, weights, portfolio_value, confidence_level)\n",
        "print(f\"The 99% 10-day VaR for the portfolio is: {VaR:.4f}\")\n"
      ]
    }
  ]
}